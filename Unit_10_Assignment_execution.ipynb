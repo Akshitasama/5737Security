{
  "cells": [
    {
      "cell_type": "markdown",
      "metadata": {
        "id": "vTKHdCae5wEX"
      },
      "source": [
        "## Unit 10 Assignment\n",
        "\n",
        "**Jupyter Notebook**: Jupyter Notebook (formerly IPython Notebooks) is a web-based interactive computational environment for creating notebook documents. Project Jupyter's operating philosophy is to support interactive data science and scientific computing across all programming languages via the development of open-source software. It supports different languages such as Python, R, and Julia. You can also install kernels to run other things like JavaScript. \n",
        "\n",
        "A notebook kernel is a “computational engine” that executes the code contained in a Notebook document. The ipython kernel, referenced in this guide, executes python code. Kernels for many other languages exist.\n",
        "\n",
        "* https://jupyter-notebook-beginner-guide.readthedocs.io/en/latest/what_is_jupyter.html \n",
        "* https://github.com/jupyter/jupyter/wiki/Jupyter-kernels\n",
        "* https://jupyter-notebook.readthedocs.io/en/stable/examples/Notebook/Notebook%20Basics.html\n",
        "* https://realpython.com/jupyter-notebook-introduction/"
      ]
    },
    {
      "cell_type": "markdown",
      "metadata": {
        "id": "9ebIOnd-5wEb"
      },
      "source": [
        " ### Menu\n",
        "\n",
        "**File** \n",
        "* Download as\n",
        "* Close and Halt\n",
        "\n",
        "**Edit**\n",
        "* Moving Cells\n",
        "* Find and Replace\n",
        "    \n",
        "**View** \n",
        "* Toggle Line Numbers\n",
        "    \n",
        "**Insert**\n",
        "* Insert Cell Above (A)\n",
        "* Insert Cell Below (B)\n",
        "\n",
        "**Cell**\n",
        "* Run Cell Ctrl-Enter\n",
        "* Run Cell and Select Below Ctrl-Shift\n",
        "* Run Cell and Insert Below Ctrl-Alt\n",
        "    \n",
        "**Kernel**\n",
        "* Restart\n",
        "    * Clear Output\n",
        "    * Run All\n",
        "\n",
        "**Widget**\n",
        "\n",
        "**Help**\n",
        "\n",
        "### Tool Bar\n",
        "\n",
        "**Markdown vs Code**\n",
        "* Markdown: https://www.ibm.com/docs/en/watson-studio-local/1.2.3?topic=notebooks-markdown-jupyter-cheatsheet\n",
        "* Code: Code example in next cell\n",
        "* Edit vs Command Modes (Green vs Blue Borders)\n",
        "    * A B X ESC"
      ]
    },
    {
      "cell_type": "code",
      "execution_count": 1,
      "metadata": {
        "colab": {
          "base_uri": "https://localhost:8080/"
        },
        "id": "OkRx3XNv5wEd",
        "outputId": "d877fe10-e49e-448b-b37f-816b4a8447b8"
      },
      "outputs": [
        {
          "output_type": "stream",
          "name": "stdout",
          "text": [
            "Hello World!\n"
          ]
        }
      ],
      "source": [
        "# code cell example\n",
        "print('Hello World!')"
      ]
    },
    {
      "cell_type": "markdown",
      "metadata": {
        "id": "GlTqWXhd5wEf"
      },
      "source": [
        "### Coding Tips\n",
        "\n",
        "**Commenting**"
      ]
    },
    {
      "cell_type": "markdown",
      "metadata": {
        "id": "uEk4YAd-5wEg"
      },
      "source": [
        "### Python\n",
        "* https://hackernoon.com/i-finally-understand-static-vs-dynamic-typing-and-you-will-too-ad0c2bd0acc7\n",
        "* https://www.analyticsvidhya.com/blog/2021/05/introduction-to-python-programming-beginners-guide/\n",
        "* https://jakevdp.github.io/PythonDataScienceHandbook/index.html \n",
        "\n",
        "Everything in Python is an object\n",
        "\n",
        "* Compiled vs Interperted (See first link)\n",
        "* Typing\n",
        "    * Static\n",
        "    * Dynamic\n",
        "* Variables and Data Types (Int, Float, String, Object, etc. See second link)\n",
        "* Data Structures (Tuples, Lists, Dictionaries, Sets, etc.)\n",
        "* Conditions and Loops (If, For, While, etc.)"
      ]
    },
    {
      "cell_type": "markdown",
      "metadata": {
        "id": "bM7nioT05wEg"
      },
      "source": [
        "### Numpy\n",
        "\n",
        "* Loading, storing, and manipulating data and datasets\n",
        "* More efficient working with arrays, specifically numerical arrays, hence Numerical Python\n",
        "* In this assignment we will be looking at converting text into numbers"
      ]
    },
    {
      "cell_type": "markdown",
      "metadata": {
        "id": "IDBeQu8V5wEh"
      },
      "source": [
        "### Pandas\n",
        "\n",
        "* Built on Numpy\n",
        "* Series\n",
        "* Dataframes: Multidimensional arrays with columns and rows"
      ]
    },
    {
      "cell_type": "code",
      "execution_count": 2,
      "metadata": {
        "colab": {
          "base_uri": "https://localhost:8080/",
          "height": 206
        },
        "id": "0TBkcq8r5wEh",
        "outputId": "5c6e519a-a95f-4490-ebdc-d3f72cbedc2e"
      },
      "outputs": [
        {
          "output_type": "execute_result",
          "data": {
            "text/plain": [
              "   survived  pclass     sex   age  sibsp  parch     fare embarked  class  \\\n",
              "0         0       3    male  22.0      1      0   7.2500        S  Third   \n",
              "1         1       1  female  38.0      1      0  71.2833        C  First   \n",
              "2         1       3  female  26.0      0      0   7.9250        S  Third   \n",
              "3         1       1  female  35.0      1      0  53.1000        S  First   \n",
              "4         0       3    male  35.0      0      0   8.0500        S  Third   \n",
              "\n",
              "     who  adult_male deck  embark_town alive  alone  \n",
              "0    man        True  NaN  Southampton    no  False  \n",
              "1  woman       False    C    Cherbourg   yes  False  \n",
              "2  woman       False  NaN  Southampton   yes   True  \n",
              "3  woman       False    C  Southampton   yes  False  \n",
              "4    man        True  NaN  Southampton    no   True  "
            ],
            "text/html": [
              "\n",
              "  <div id=\"df-af94f0b5-8c8c-477f-a93a-64fe3dcc5332\">\n",
              "    <div class=\"colab-df-container\">\n",
              "      <div>\n",
              "<style scoped>\n",
              "    .dataframe tbody tr th:only-of-type {\n",
              "        vertical-align: middle;\n",
              "    }\n",
              "\n",
              "    .dataframe tbody tr th {\n",
              "        vertical-align: top;\n",
              "    }\n",
              "\n",
              "    .dataframe thead th {\n",
              "        text-align: right;\n",
              "    }\n",
              "</style>\n",
              "<table border=\"1\" class=\"dataframe\">\n",
              "  <thead>\n",
              "    <tr style=\"text-align: right;\">\n",
              "      <th></th>\n",
              "      <th>survived</th>\n",
              "      <th>pclass</th>\n",
              "      <th>sex</th>\n",
              "      <th>age</th>\n",
              "      <th>sibsp</th>\n",
              "      <th>parch</th>\n",
              "      <th>fare</th>\n",
              "      <th>embarked</th>\n",
              "      <th>class</th>\n",
              "      <th>who</th>\n",
              "      <th>adult_male</th>\n",
              "      <th>deck</th>\n",
              "      <th>embark_town</th>\n",
              "      <th>alive</th>\n",
              "      <th>alone</th>\n",
              "    </tr>\n",
              "  </thead>\n",
              "  <tbody>\n",
              "    <tr>\n",
              "      <th>0</th>\n",
              "      <td>0</td>\n",
              "      <td>3</td>\n",
              "      <td>male</td>\n",
              "      <td>22.0</td>\n",
              "      <td>1</td>\n",
              "      <td>0</td>\n",
              "      <td>7.2500</td>\n",
              "      <td>S</td>\n",
              "      <td>Third</td>\n",
              "      <td>man</td>\n",
              "      <td>True</td>\n",
              "      <td>NaN</td>\n",
              "      <td>Southampton</td>\n",
              "      <td>no</td>\n",
              "      <td>False</td>\n",
              "    </tr>\n",
              "    <tr>\n",
              "      <th>1</th>\n",
              "      <td>1</td>\n",
              "      <td>1</td>\n",
              "      <td>female</td>\n",
              "      <td>38.0</td>\n",
              "      <td>1</td>\n",
              "      <td>0</td>\n",
              "      <td>71.2833</td>\n",
              "      <td>C</td>\n",
              "      <td>First</td>\n",
              "      <td>woman</td>\n",
              "      <td>False</td>\n",
              "      <td>C</td>\n",
              "      <td>Cherbourg</td>\n",
              "      <td>yes</td>\n",
              "      <td>False</td>\n",
              "    </tr>\n",
              "    <tr>\n",
              "      <th>2</th>\n",
              "      <td>1</td>\n",
              "      <td>3</td>\n",
              "      <td>female</td>\n",
              "      <td>26.0</td>\n",
              "      <td>0</td>\n",
              "      <td>0</td>\n",
              "      <td>7.9250</td>\n",
              "      <td>S</td>\n",
              "      <td>Third</td>\n",
              "      <td>woman</td>\n",
              "      <td>False</td>\n",
              "      <td>NaN</td>\n",
              "      <td>Southampton</td>\n",
              "      <td>yes</td>\n",
              "      <td>True</td>\n",
              "    </tr>\n",
              "    <tr>\n",
              "      <th>3</th>\n",
              "      <td>1</td>\n",
              "      <td>1</td>\n",
              "      <td>female</td>\n",
              "      <td>35.0</td>\n",
              "      <td>1</td>\n",
              "      <td>0</td>\n",
              "      <td>53.1000</td>\n",
              "      <td>S</td>\n",
              "      <td>First</td>\n",
              "      <td>woman</td>\n",
              "      <td>False</td>\n",
              "      <td>C</td>\n",
              "      <td>Southampton</td>\n",
              "      <td>yes</td>\n",
              "      <td>False</td>\n",
              "    </tr>\n",
              "    <tr>\n",
              "      <th>4</th>\n",
              "      <td>0</td>\n",
              "      <td>3</td>\n",
              "      <td>male</td>\n",
              "      <td>35.0</td>\n",
              "      <td>0</td>\n",
              "      <td>0</td>\n",
              "      <td>8.0500</td>\n",
              "      <td>S</td>\n",
              "      <td>Third</td>\n",
              "      <td>man</td>\n",
              "      <td>True</td>\n",
              "      <td>NaN</td>\n",
              "      <td>Southampton</td>\n",
              "      <td>no</td>\n",
              "      <td>True</td>\n",
              "    </tr>\n",
              "  </tbody>\n",
              "</table>\n",
              "</div>\n",
              "      <button class=\"colab-df-convert\" onclick=\"convertToInteractive('df-af94f0b5-8c8c-477f-a93a-64fe3dcc5332')\"\n",
              "              title=\"Convert this dataframe to an interactive table.\"\n",
              "              style=\"display:none;\">\n",
              "        \n",
              "  <svg xmlns=\"http://www.w3.org/2000/svg\" height=\"24px\"viewBox=\"0 0 24 24\"\n",
              "       width=\"24px\">\n",
              "    <path d=\"M0 0h24v24H0V0z\" fill=\"none\"/>\n",
              "    <path d=\"M18.56 5.44l.94 2.06.94-2.06 2.06-.94-2.06-.94-.94-2.06-.94 2.06-2.06.94zm-11 1L8.5 8.5l.94-2.06 2.06-.94-2.06-.94L8.5 2.5l-.94 2.06-2.06.94zm10 10l.94 2.06.94-2.06 2.06-.94-2.06-.94-.94-2.06-.94 2.06-2.06.94z\"/><path d=\"M17.41 7.96l-1.37-1.37c-.4-.4-.92-.59-1.43-.59-.52 0-1.04.2-1.43.59L10.3 9.45l-7.72 7.72c-.78.78-.78 2.05 0 2.83L4 21.41c.39.39.9.59 1.41.59.51 0 1.02-.2 1.41-.59l7.78-7.78 2.81-2.81c.8-.78.8-2.07 0-2.86zM5.41 20L4 18.59l7.72-7.72 1.47 1.35L5.41 20z\"/>\n",
              "  </svg>\n",
              "      </button>\n",
              "      \n",
              "  <style>\n",
              "    .colab-df-container {\n",
              "      display:flex;\n",
              "      flex-wrap:wrap;\n",
              "      gap: 12px;\n",
              "    }\n",
              "\n",
              "    .colab-df-convert {\n",
              "      background-color: #E8F0FE;\n",
              "      border: none;\n",
              "      border-radius: 50%;\n",
              "      cursor: pointer;\n",
              "      display: none;\n",
              "      fill: #1967D2;\n",
              "      height: 32px;\n",
              "      padding: 0 0 0 0;\n",
              "      width: 32px;\n",
              "    }\n",
              "\n",
              "    .colab-df-convert:hover {\n",
              "      background-color: #E2EBFA;\n",
              "      box-shadow: 0px 1px 2px rgba(60, 64, 67, 0.3), 0px 1px 3px 1px rgba(60, 64, 67, 0.15);\n",
              "      fill: #174EA6;\n",
              "    }\n",
              "\n",
              "    [theme=dark] .colab-df-convert {\n",
              "      background-color: #3B4455;\n",
              "      fill: #D2E3FC;\n",
              "    }\n",
              "\n",
              "    [theme=dark] .colab-df-convert:hover {\n",
              "      background-color: #434B5C;\n",
              "      box-shadow: 0px 1px 3px 1px rgba(0, 0, 0, 0.15);\n",
              "      filter: drop-shadow(0px 1px 2px rgba(0, 0, 0, 0.3));\n",
              "      fill: #FFFFFF;\n",
              "    }\n",
              "  </style>\n",
              "\n",
              "      <script>\n",
              "        const buttonEl =\n",
              "          document.querySelector('#df-af94f0b5-8c8c-477f-a93a-64fe3dcc5332 button.colab-df-convert');\n",
              "        buttonEl.style.display =\n",
              "          google.colab.kernel.accessAllowed ? 'block' : 'none';\n",
              "\n",
              "        async function convertToInteractive(key) {\n",
              "          const element = document.querySelector('#df-af94f0b5-8c8c-477f-a93a-64fe3dcc5332');\n",
              "          const dataTable =\n",
              "            await google.colab.kernel.invokeFunction('convertToInteractive',\n",
              "                                                     [key], {});\n",
              "          if (!dataTable) return;\n",
              "\n",
              "          const docLinkHtml = 'Like what you see? Visit the ' +\n",
              "            '<a target=\"_blank\" href=https://colab.research.google.com/notebooks/data_table.ipynb>data table notebook</a>'\n",
              "            + ' to learn more about interactive tables.';\n",
              "          element.innerHTML = '';\n",
              "          dataTable['output_type'] = 'display_data';\n",
              "          await google.colab.output.renderOutput(dataTable, element);\n",
              "          const docLink = document.createElement('div');\n",
              "          docLink.innerHTML = docLinkHtml;\n",
              "          element.appendChild(docLink);\n",
              "        }\n",
              "      </script>\n",
              "    </div>\n",
              "  </div>\n",
              "  "
            ]
          },
          "metadata": {},
          "execution_count": 2
        }
      ],
      "source": [
        "# demonstrate Pandas' dataframes\n",
        "import pandas as pd\n",
        "\n",
        "# read the titanic dataset\n",
        "titanic = pd.read_csv('titanic.csv', index_col='Unnamed: 0')\n",
        "titanic.head()"
      ]
    },
    {
      "cell_type": "markdown",
      "metadata": {
        "id": "rsTevNY75wEi"
      },
      "source": [
        "### MatPlotLib / Seaborn\n",
        "\n",
        "* Visualization library built on Numpy\n",
        "* Seaborn provides more options for visualizations"
      ]
    },
    {
      "cell_type": "code",
      "execution_count": 3,
      "metadata": {
        "colab": {
          "base_uri": "https://localhost:8080/",
          "height": 265
        },
        "id": "-zixzUv_5wEj",
        "outputId": "3b1c844b-2b2b-476f-ad4f-ba2ed4d07b55"
      },
      "outputs": [
        {
          "output_type": "display_data",
          "data": {
            "text/plain": [
              "<Figure size 432x288 with 1 Axes>"
            ],
            "image/png": "[encoded data removed]"
          },
          "metadata": {
            "needs_background": "light"
          }
        }
      ],
      "source": [
        "# demonstrate matplpotlib and numpy\n",
        "import numpy as np\n",
        "import matplotlib.pyplot as plt\n",
        "\n",
        "x = np.linspace(0, 10, 100)\n",
        "\n",
        "plt.plot(x, np.sin(x))\n",
        "plt.plot(x, np.cos(x))\n",
        "\n",
        "plt.show()"
      ]
    },
    {
      "cell_type": "code",
      "execution_count": 4,
      "metadata": {
        "colab": {
          "base_uri": "https://localhost:8080/",
          "height": 248
        },
        "id": "yJTHWOc35wEj",
        "outputId": "e9d5448e-7fd1-45b6-dbe5-06796e32f76c"
      },
      "outputs": [
        {
          "output_type": "display_data",
          "data": {
            "text/plain": [
              "<Figure size 432x288 with 1 Axes>"
            ],
            "image/png": "[encoded data removed]"
          },
          "metadata": {}
        }
      ],
      "source": [
        "# demonstrate pandas and matplotlib\n",
        "# plt.pie(titanic['survived'].value_counts())\n",
        "titanic.survived.value_counts().plot(kind='pie')\n",
        "plt.show()"
      ]
    },
    {
      "cell_type": "code",
      "execution_count": 5,
      "metadata": {
        "colab": {
          "base_uri": "https://localhost:8080/",
          "height": 279
        },
        "id": "9DQK-nfs5wEk",
        "outputId": "2545118c-3b39-439b-e682-79ed495ce2f6"
      },
      "outputs": [
        {
          "output_type": "display_data",
          "data": {
            "text/plain": [
              "<Figure size 432x288 with 1 Axes>"
            ],
            "image/png": "[encoded data removed]"
          },
          "metadata": {
            "needs_background": "light"
          }
        }
      ],
      "source": [
        "# demonstrate seaborn\n",
        "import seaborn as sns\n",
        "\n",
        "sns.histplot(titanic.fare, kde=True)\n",
        "plt.show()"
      ]
    },
    {
      "cell_type": "markdown",
      "metadata": {
        "id": "bX3gwBlN5wEk"
      },
      "source": [
        "### Scikit-learn\n",
        "\n",
        "* Implements many of the standard machine learning algorithms\n",
        "* One of the ideas behind machine learning is transforming data into something understood by a machine"
      ]
    },
    {
      "cell_type": "markdown",
      "metadata": {
        "id": "PU0kcqvf5wEl"
      },
      "source": [
        "## Data Science"
      ]
    },
    {
      "cell_type": "markdown",
      "metadata": {
        "id": "GbG4qe-w5wEl"
      },
      "source": [
        "### Data\n",
        "\n",
        "**Numerical**\n",
        "* Discrete: Things that can be counted, whole numbers. Number of people in a room\n",
        "* Continuous: Possible values cannot be counted. Includes decimals (usually rounded). Measurement \n",
        "\n",
        "**Categorical**\n",
        "* Two or more categories, labels\n",
        "* Nominal: Cannot be sorted. Gender, type of penguin, type of iris, survived\n",
        "\n",
        "**Ordinal (Cardinal, Nominal)**\n",
        "* Can be sorted. First, second, third, etc\n",
        "\n",
        "**Interval**\n",
        "* Equally spaced\n",
        "* Provides scale but no true zero\n",
        "* Temperature can have 0 degrees but not ‘no temperature’, 0 degrees is still a temperature\n",
        "* Zero is not the lowest temperature\n",
        "\n",
        "**Ratio**\n",
        "* Has true zero\n",
        "* Can’t be -10 inches tall"
      ]
    },
    {
      "cell_type": "markdown",
      "metadata": {
        "id": "XeYEjKJg5wEm"
      },
      "source": [
        "**Discrete and Random Variables**: When we have a discrete random variable, the function representing its distribution is called a probability mass function. On the other hand, if the random variable is continuous, the function behind the distribution is called a probability density function. https://www.probabilisticworld.com/introduction-probability-distributions/ \n",
        "\n",
        "**Independent Variables (X)**\n",
        "* Regressors\n",
        "* Predictors\n",
        "* Observations\n",
        "* Explanatory\n",
        "* Input\n",
        "* Control\n",
        "* exog (exogenous)\n",
        "\n",
        "**Dependent Variables (y)**:\n",
        "* Outcome\n",
        "* Target\n",
        "* Response\n",
        "* Regressand\n",
        "* endog (endogenous)\n",
        "\n",
        "**Categorical Labels**: A categorical variable is a variable whose values take on the value of labels.\n",
        "\n",
        "**Univariate Data**: Data for one variable. Used in frequency distribution tables and curves, bar charts, histograms, pie charts\n",
        "\n",
        "**Bivariate Data**: Data for two variables (x and y) usually related. Used in scatter plots, linear correlation, chi-square tests, z and t tests, ANOVA\n",
        "\n",
        "**Multivariate Data**: Simultaneous data analysis for more than two variables. Used in cluster analysis, multiple regression\n"
      ]
    },
    {
      "cell_type": "markdown",
      "metadata": {
        "id": "PpLctYWs5wEn"
      },
      "source": [
        "### Distributions\n",
        "\n",
        "A probability distribution is an assignment of probabilities or probability densities for all possible outcomes of a random variable.\n",
        "\n",
        "https://www.probabilisticworld.com/introduction-probability-distributions/ \n",
        "\n",
        "Random Variable: a representation of possible outcomes within a sample space. For example, a roll of a fair die will have six possible outcomes, 1 - 6. The sample space is 1 - 6 and the possibility of each outcome is the same in this case. A random variable is measurable and is not predictable.\n",
        "\n",
        "Distributions:\n",
        "* Uniform: all outcomes are equally likely\n",
        "* Binomial: the probability of successes in n independent experiments\n",
        "* Multinomial: probability of outcome with more than two outcomes. Ex. If you roll a die 5 times and want to see what each roll is, you have a multinomial experiment. If you want to find out how many times you roll a 1, you have a binomial experiment.\n",
        "* Bernoulli: similar to binomial with n = 1\n",
        "* Poisson: the probability of an event given a specified range\n",
        "* Normal (Gaussian): a probability distribution symmetric about the mean where data is more frequent the closer to the mean\n",
        "* F Distribution: distribution of the f statistic which is used in ANOVA to find if there are significant differences between group means \n",
        "* Chi Distribution: a chi square statistic shows relationships between categorical variables. The chi square distribution is defined by degrees of freedom. As the degrees of freedom increase the distribution looks more like the normal distribution. The distribution shows the probability associated with the chi square statistic.\n",
        "* z-Distribution: a normal distribution in standard form\n",
        "* t-Distribution: similar to the normal distribution but with the probability of values greater further away from the mean (kurtosis)\n"
      ]
    },
    {
      "cell_type": "markdown",
      "metadata": {
        "id": "v4ynI_d25wEn"
      },
      "source": [
        "### Probabilities\n",
        "\n",
        "Probability in a Nutshell: outcomes you are looking for / total possible outcomes\n",
        "\n",
        "* Factorial\n",
        "> $n!$\n",
        "* Permutations (order matters)\n",
        "> $_{n}P_r = \\frac{n!}{(n-r)!}$\n",
        "* Permutations with repetition\n",
        "> $n^r$\n",
        "* Combinations (order doesn't matter)\n",
        "> $C(n,r) = C_k^{n} = {_nC_r} = \\binom {n}{r} = \\frac{n!}{r!(n-r)!}$\n",
        "* Combinations with repetition\n",
        "> $_{n+r-1}C_r = \\frac{(n+r-1)!}{r!(n-1)!}$\n",
        "* Intersections (Independent): \n",
        "> $P(A \\cap B) = P(A) * P(B)$\n",
        "* Intersections (Dependent): \n",
        "> $P(A \\cap B) = P(A) * P(B|A)$\n",
        "* Unions: \n",
        "> $P(A \\cup B) = P(A) + P(B) - P(A \\cap B)$\n",
        "* Unions if mutually exclusive: \n",
        "> $P(A \\cup B) = P(A) + P(B)$\n",
        "* Conditional Probability: \n",
        "> $P(A|B) = \\frac{P(A \\cap B)}{P(B)} $\n",
        "* Bayes’ Theorem: <br />\n",
        "> $P(A|B) = \\frac{P(B|A) P(A)}{P(B)}$ where <br />\n",
        "> $P(B) = P(B|A) P(A) + P(B|\\bar{A}) P(\\bar{A})$\n",
        "* Bayesian Inference\n"
      ]
    },
    {
      "cell_type": "markdown",
      "metadata": {
        "id": "dmTNto4c5wEo"
      },
      "source": [
        "### Machine Learning Algorithms\n",
        "\n",
        "**Linear Models**: \n",
        "* Simple Linear Regression\n",
        "* Multiple Linear Regression\n",
        "\n",
        "**Classification Models**: \n",
        "* Logistic Regression\n",
        "\n",
        "**Tree-Based Models**:\n",
        "* Decision Trees\n",
        "\n",
        "**Ensemble Models**\n",
        "* Random Forests\n",
        "\n",
        "**Clustering**"
      ]
    },
    {
      "cell_type": "markdown",
      "metadata": {
        "id": "4QCZxPkX5wEo"
      },
      "source": [
        "## Natural Language Processing\n",
        "\n",
        "https://www.nltk.org/index.html"
      ]
    },
    {
      "cell_type": "code",
      "execution_count": 6,
      "metadata": {
        "id": "1eU6hqdp5wEp"
      },
      "outputs": [],
      "source": [
        "# downloads for processing raw text, meanings, pos tagging, and cleaning\n",
        "# import nltk\n",
        "# nltk.download('stopwords')\n",
        "# nltk.download('punkt')\n",
        "# nltk.download('wordnet')\n",
        "# nltk.download('averaged_perceptron_tagger')"
      ]
    },
    {
      "cell_type": "markdown",
      "metadata": {
        "id": "WKupPZNT5wEp"
      },
      "source": [
        "### Text Analysis\n",
        "\n",
        "From https://scikit-learn.org/stable/modules/feature_extraction.html#text-feature-extraction :\n",
        "\n",
        "> Text Analysis is a major application field for machine learning algorithms. However the raw data, a sequence of symbols cannot be fed directly to the algorithms themselves as most of them expect numerical feature vectors with a fixed size rather than the raw text documents with variable length.\n",
        "\n",
        "> In order to address this, scikit-learn provides utilities for the most common ways to extract numerical features from text content, namely:\n",
        "> * tokenizing strings and giving an integer id for each possible token, for instance by using white-spaces and punctuation as token separators\n",
        "> * counting the occurrences of tokens in each document\n",
        "> * normalizing and weighting with diminishing importance tokens that occur in the majority of samples / documents\n",
        "\n",
        "> In this scheme, features and samples are defined as follows:\n",
        "> * each individual token occurrence frequency (normalized or not) is treated as a feature\n",
        "> * the vector of all the token frequencies for a given document is considered a multivariate sample\n",
        "> A corpus of documents can thus be represented by a matrix with one row per document and one column per token (e.g. word) occurring in the corpus\n",
        "\n",
        "> We call vectorization the general process of turning a collection of text documents into numerical feature vectors. This specific strategy (tokenization, counting and normalization) is called the Bag of Words or “Bag of n-grams” representation. Documents are described by word occurrences while completely ignoring the relative position information of the words in the document."
      ]
    },
    {
      "cell_type": "markdown",
      "metadata": {
        "id": "k9h_nRW15wEq"
      },
      "source": [
        "### Word Tokens\n",
        "\n",
        "Tokens are the total numbers of words in a corpus regardless if they are repeated. Word tokenization splits text into words."
      ]
    },
    {
      "cell_type": "code",
      "execution_count": 8,
      "metadata": {
        "colab": {
          "base_uri": "https://localhost:8080/"
        },
        "id": "cfBHMqQv5wEq",
        "outputId": "9130e7f6-76b2-4b96-c942-128df97135dc"
      },
      "outputs": [
        {
          "output_type": "stream",
          "name": "stdout",
          "text": [
            "[nltk_data] Downloading package punkt to /root/nltk_data...\n",
            "[nltk_data]   Unzipping tokenizers/punkt.zip.\n"
          ]
        },
        {
          "output_type": "execute_result",
          "data": {
            "text/plain": [
              "['I',\n",
              " 'love',\n",
              " 'learning',\n",
              " '.',\n",
              " 'I',\n",
              " 'have',\n",
              " 'learned',\n",
              " 'so',\n",
              " 'much',\n",
              " ',',\n",
              " 'and',\n",
              " 'hope',\n",
              " 'to',\n",
              " 'learn',\n",
              " 'more',\n",
              " '.',\n",
              " 'I',\n",
              " 'also',\n",
              " 'hope',\n",
              " 'to',\n",
              " 'learn',\n",
              " 'how',\n",
              " 'a',\n",
              " 'machine',\n",
              " 'learns',\n",
              " '.']"
            ]
          },
          "metadata": {},
          "execution_count": 8
        }
      ],
      "source": [
        "# demonstrate word_tokenize\n",
        "import nltk\n",
        "nltk.download('punkt') \n",
        "from nltk.tokenize import word_tokenize\n",
        "\n",
        "text = 'I love learning. I have learned so much, and hope to learn more. I also hope to learn how a machine learns.'\n",
        "word_tokenize(text)"
      ]
    },
    {
      "cell_type": "code",
      "execution_count": 9,
      "metadata": {
        "colab": {
          "base_uri": "https://localhost:8080/"
        },
        "id": "TzMEWVWF5wEr",
        "outputId": "1191fa22-fc0f-444f-ba7d-627ac04614a8"
      },
      "outputs": [
        {
          "output_type": "stream",
          "name": "stdout",
          "text": [
            "                                                msgs\n",
            "0  I love learning. I have learned so much, and h...\n",
            "1  Learning about beautiful mice was so much fun ...\n"
          ]
        }
      ],
      "source": [
        "# create dataframe from messages\n",
        "import pandas as pd\n",
        "from nltk.tokenize import word_tokenize\n",
        "\n",
        "msgs = [\n",
        "    'I love learning. I have learned so much, and hope to learn more. I also hope to learn how a machine learns',\n",
        "    'Learning about beautiful mice was so much fun till I learned there was going to be a quiz'\n",
        "]\n",
        "\n",
        "df = pd.DataFrame({'msgs': msgs})\n",
        "print(df)"
      ]
    },
    {
      "cell_type": "code",
      "execution_count": 10,
      "metadata": {
        "colab": {
          "base_uri": "https://localhost:8080/",
          "height": 196
        },
        "id": "8Pd3ff315wEr",
        "outputId": "8b8bd729-e972-45c6-8f5b-0baa24881abe"
      },
      "outputs": [
        {
          "output_type": "stream",
          "name": "stderr",
          "text": [
            "/usr/local/lib/python3.7/dist-packages/sklearn/utils/deprecation.py:87: FutureWarning: Function get_feature_names is deprecated; get_feature_names is deprecated in 1.0 and will be removed in 1.2. Please use get_feature_names_out instead.\n",
            "  warnings.warn(msg, category=FutureWarning)\n"
          ]
        },
        {
          "output_type": "execute_result",
          "data": {
            "text/plain": [
              "   about  also  and  be  beautiful  fun  going  have  hope  how  ...  machine  \\\n",
              "0      0     1    1   0          0    0      0     1     2    1  ...        1   \n",
              "1      1     0    0   1          1    1      1     0     0    0  ...        0   \n",
              "\n",
              "   mice  more  much  quiz  so  there  till  to  was  \n",
              "0     0     1     1     0   1      0     0   2    0  \n",
              "1     1     0     1     1   1      1     1   1    2  \n",
              "\n",
              "[2 rows x 25 columns]"
            ],
            "text/html": [
              "\n",
              "  <div id=\"df-fcdfd351-d515-47bc-b53a-d3ec0838215f\">\n",
              "    <div class=\"colab-df-container\">\n",
              "      <div>\n",
              "<style scoped>\n",
              "    .dataframe tbody tr th:only-of-type {\n",
              "        vertical-align: middle;\n",
              "    }\n",
              "\n",
              "    .dataframe tbody tr th {\n",
              "        vertical-align: top;\n",
              "    }\n",
              "\n",
              "    .dataframe thead th {\n",
              "        text-align: right;\n",
              "    }\n",
              "</style>\n",
              "<table border=\"1\" class=\"dataframe\">\n",
              "  <thead>\n",
              "    <tr style=\"text-align: right;\">\n",
              "      <th></th>\n",
              "      <th>about</th>\n",
              "      <th>also</th>\n",
              "      <th>and</th>\n",
              "      <th>be</th>\n",
              "      <th>beautiful</th>\n",
              "      <th>fun</th>\n",
              "      <th>going</th>\n",
              "      <th>have</th>\n",
              "      <th>hope</th>\n",
              "      <th>how</th>\n",
              "      <th>...</th>\n",
              "      <th>machine</th>\n",
              "      <th>mice</th>\n",
              "      <th>more</th>\n",
              "      <th>much</th>\n",
              "      <th>quiz</th>\n",
              "      <th>so</th>\n",
              "      <th>there</th>\n",
              "      <th>till</th>\n",
              "      <th>to</th>\n",
              "      <th>was</th>\n",
              "    </tr>\n",
              "  </thead>\n",
              "  <tbody>\n",
              "    <tr>\n",
              "      <th>0</th>\n",
              "      <td>0</td>\n",
              "      <td>1</td>\n",
              "      <td>1</td>\n",
              "      <td>0</td>\n",
              "      <td>0</td>\n",
              "      <td>0</td>\n",
              "      <td>0</td>\n",
              "      <td>1</td>\n",
              "      <td>2</td>\n",
              "      <td>1</td>\n",
              "      <td>...</td>\n",
              "      <td>1</td>\n",
              "      <td>0</td>\n",
              "      <td>1</td>\n",
              "      <td>1</td>\n",
              "      <td>0</td>\n",
              "      <td>1</td>\n",
              "      <td>0</td>\n",
              "      <td>0</td>\n",
              "      <td>2</td>\n",
              "      <td>0</td>\n",
              "    </tr>\n",
              "    <tr>\n",
              "      <th>1</th>\n",
              "      <td>1</td>\n",
              "      <td>0</td>\n",
              "      <td>0</td>\n",
              "      <td>1</td>\n",
              "      <td>1</td>\n",
              "      <td>1</td>\n",
              "      <td>1</td>\n",
              "      <td>0</td>\n",
              "      <td>0</td>\n",
              "      <td>0</td>\n",
              "      <td>...</td>\n",
              "      <td>0</td>\n",
              "      <td>1</td>\n",
              "      <td>0</td>\n",
              "      <td>1</td>\n",
              "      <td>1</td>\n",
              "      <td>1</td>\n",
              "      <td>1</td>\n",
              "      <td>1</td>\n",
              "      <td>1</td>\n",
              "      <td>2</td>\n",
              "    </tr>\n",
              "  </tbody>\n",
              "</table>\n",
              "<p>2 rows × 25 columns</p>\n",
              "</div>\n",
              "      <button class=\"colab-df-convert\" onclick=\"convertToInteractive('df-fcdfd351-d515-47bc-b53a-d3ec0838215f')\"\n",
              "              title=\"Convert this dataframe to an interactive table.\"\n",
              "              style=\"display:none;\">\n",
              "        \n",
              "  <svg xmlns=\"http://www.w3.org/2000/svg\" height=\"24px\"viewBox=\"0 0 24 24\"\n",
              "       width=\"24px\">\n",
              "    <path d=\"M0 0h24v24H0V0z\" fill=\"none\"/>\n",
              "    <path d=\"M18.56 5.44l.94 2.06.94-2.06 2.06-.94-2.06-.94-.94-2.06-.94 2.06-2.06.94zm-11 1L8.5 8.5l.94-2.06 2.06-.94-2.06-.94L8.5 2.5l-.94 2.06-2.06.94zm10 10l.94 2.06.94-2.06 2.06-.94-2.06-.94-.94-2.06-.94 2.06-2.06.94z\"/><path d=\"M17.41 7.96l-1.37-1.37c-.4-.4-.92-.59-1.43-.59-.52 0-1.04.2-1.43.59L10.3 9.45l-7.72 7.72c-.78.78-.78 2.05 0 2.83L4 21.41c.39.39.9.59 1.41.59.51 0 1.02-.2 1.41-.59l7.78-7.78 2.81-2.81c.8-.78.8-2.07 0-2.86zM5.41 20L4 18.59l7.72-7.72 1.47 1.35L5.41 20z\"/>\n",
              "  </svg>\n",
              "      </button>\n",
              "      \n",
              "  <style>\n",
              "    .colab-df-container {\n",
              "      display:flex;\n",
              "      flex-wrap:wrap;\n",
              "      gap: 12px;\n",
              "    }\n",
              "\n",
              "    .colab-df-convert {\n",
              "      background-color: #E8F0FE;\n",
              "      border: none;\n",
              "      border-radius: 50%;\n",
              "      cursor: pointer;\n",
              "      display: none;\n",
              "      fill: #1967D2;\n",
              "      height: 32px;\n",
              "      padding: 0 0 0 0;\n",
              "      width: 32px;\n",
              "    }\n",
              "\n",
              "    .colab-df-convert:hover {\n",
              "      background-color: #E2EBFA;\n",
              "      box-shadow: 0px 1px 2px rgba(60, 64, 67, 0.3), 0px 1px 3px 1px rgba(60, 64, 67, 0.15);\n",
              "      fill: #174EA6;\n",
              "    }\n",
              "\n",
              "    [theme=dark] .colab-df-convert {\n",
              "      background-color: #3B4455;\n",
              "      fill: #D2E3FC;\n",
              "    }\n",
              "\n",
              "    [theme=dark] .colab-df-convert:hover {\n",
              "      background-color: #434B5C;\n",
              "      box-shadow: 0px 1px 3px 1px rgba(0, 0, 0, 0.15);\n",
              "      filter: drop-shadow(0px 1px 2px rgba(0, 0, 0, 0.3));\n",
              "      fill: #FFFFFF;\n",
              "    }\n",
              "  </style>\n",
              "\n",
              "      <script>\n",
              "        const buttonEl =\n",
              "          document.querySelector('#df-fcdfd351-d515-47bc-b53a-d3ec0838215f button.colab-df-convert');\n",
              "        buttonEl.style.display =\n",
              "          google.colab.kernel.accessAllowed ? 'block' : 'none';\n",
              "\n",
              "        async function convertToInteractive(key) {\n",
              "          const element = document.querySelector('#df-fcdfd351-d515-47bc-b53a-d3ec0838215f');\n",
              "          const dataTable =\n",
              "            await google.colab.kernel.invokeFunction('convertToInteractive',\n",
              "                                                     [key], {});\n",
              "          if (!dataTable) return;\n",
              "\n",
              "          const docLinkHtml = 'Like what you see? Visit the ' +\n",
              "            '<a target=\"_blank\" href=https://colab.research.google.com/notebooks/data_table.ipynb>data table notebook</a>'\n",
              "            + ' to learn more about interactive tables.';\n",
              "          element.innerHTML = '';\n",
              "          dataTable['output_type'] = 'display_data';\n",
              "          await google.colab.output.renderOutput(dataTable, element);\n",
              "          const docLink = document.createElement('div');\n",
              "          docLink.innerHTML = docLinkHtml;\n",
              "          element.appendChild(docLink);\n",
              "        }\n",
              "      </script>\n",
              "    </div>\n",
              "  </div>\n",
              "  "
            ]
          },
          "metadata": {},
          "execution_count": 10
        }
      ],
      "source": [
        "# demonstrate CountVectorizer\n",
        "from sklearn.feature_extraction.text import CountVectorizer\n",
        "\n",
        "cv = CountVectorizer()\n",
        "matrix = cv.fit_transform(df['msgs'])\n",
        "cv_df = pd.DataFrame(matrix.toarray(), columns=cv.get_feature_names())\n",
        "cv_df"
      ]
    },
    {
      "cell_type": "markdown",
      "metadata": {
        "id": "MIaXJq115wEr"
      },
      "source": [
        "### Stemming vs Lemmatization\n",
        "\n",
        "Stemming is the process of producing morphological variants of a root/base word. Porter Stemmer is one of the most popular and was created by Martin Porter in 1980."
      ]
    },
    {
      "cell_type": "code",
      "execution_count": 11,
      "metadata": {
        "colab": {
          "base_uri": "https://localhost:8080/"
        },
        "id": "QogUjHIg5wEs",
        "outputId": "e0f953ef-7e99-4af9-d22e-092e4270a343"
      },
      "outputs": [
        {
          "output_type": "stream",
          "name": "stdout",
          "text": [
            "learn\n",
            "learn\n",
            "learn\n",
            "learn\n"
          ]
        }
      ],
      "source": [
        "# demonstrate stemming\n",
        "from nltk.stem import PorterStemmer\n",
        "\n",
        "ps =PorterStemmer()\n",
        "words= ['learn', 'learned', 'learning', 'learns']\n",
        "\n",
        "for word in words:\n",
        "    print(ps.stem(word))"
      ]
    },
    {
      "cell_type": "code",
      "execution_count": 12,
      "metadata": {
        "colab": {
          "base_uri": "https://localhost:8080/"
        },
        "id": "r6Rf1JMw5wEt",
        "outputId": "f198bca0-5716-40ba-c2d8-8fd362d1e03a"
      },
      "outputs": [
        {
          "output_type": "stream",
          "name": "stdout",
          "text": [
            "['I', 'love', 'learn', '.', 'I', 'have', 'learn', 'so', 'much', ',', 'and', 'hope', 'to', 'learn', 'more', '.', 'I', 'also', 'hope', 'to', 'learn', 'how', 'a', 'machin', 'learn', '.']\n"
          ]
        }
      ],
      "source": [
        "# demonstrate stemming and tokenization\n",
        "from nltk.stem import PorterStemmer\n",
        "from nltk.tokenize import word_tokenize\n",
        "\n",
        "ps =PorterStemmer()\n",
        "sentence = 'I love learning. I have learned so much, and hope to learn more. I also hope to learn how a machine learns.'\n",
        "words = word_tokenize(sentence)\n",
        "print([ps.stem(word) for word in words])"
      ]
    },
    {
      "cell_type": "markdown",
      "metadata": {
        "id": "-o2jyDrP5wEu"
      },
      "source": [
        "### Lemmatization\n",
        "\n",
        "Lemmatization applies a morphological analysis to words. The lemma of ‘was’ is ‘be’ and the lemma of ‘mice’ is ‘mouse’."
      ]
    },
    {
      "cell_type": "code",
      "execution_count": 15,
      "metadata": {
        "colab": {
          "base_uri": "https://localhost:8080/"
        },
        "id": "SKQUEKKg5wEu",
        "outputId": "3eebaa6f-f822-471c-a4c4-6ca018921955"
      },
      "outputs": [
        {
          "output_type": "stream",
          "name": "stdout",
          "text": [
            "[nltk_data] Downloading package wordnet to /root/nltk_data...\n",
            "[nltk_data]   Package wordnet is already up-to-date!\n",
            "[nltk_data] Downloading package averaged_perceptron_tagger to\n",
            "[nltk_data]     /root/nltk_data...\n",
            "[nltk_data]   Unzipping taggers/averaged_perceptron_tagger.zip.\n",
            "learning => learn (v)\n",
            "about => about (n)\n",
            "beautiful => beautiful (a)\n",
            "mice => mouse (n)\n",
            "was => be (v)\n",
            "so => so (r)\n",
            "much => much (a)\n",
            "fun => fun (n)\n",
            "till => till (n)\n",
            "I => I (n)\n",
            "learned => learn (v)\n",
            "there => there (n)\n",
            "was => be (v)\n",
            "going => go (v)\n",
            "to => to (n)\n",
            "be => be (v)\n",
            "a => a (n)\n",
            "quiz => quiz (n)\n"
          ]
        }
      ],
      "source": [
        "# demonstrate lemmatization\n",
        "import nltk\n",
        "nltk.download('wordnet')\n",
        "nltk.download('averaged_perceptron_tagger')\n",
        "from nltk.corpus import wordnet as wn\n",
        "from nltk.stem.wordnet import WordNetLemmatizer\n",
        "from nltk import word_tokenize, pos_tag\n",
        "from collections import defaultdict\n",
        "\n",
        "tag_map = defaultdict(lambda : wn.NOUN)\n",
        "tag_map['J'] = wn.ADJ\n",
        "tag_map['V'] = wn.VERB\n",
        "tag_map['R'] = wn.ADV\n",
        "\n",
        "text = 'learning about beautiful mice was so much fun till I learned there was going to be a quiz'\n",
        "tokens = word_tokenize(text)\n",
        "lemma_function = WordNetLemmatizer()\n",
        "\n",
        "for token, tag in pos_tag(tokens):\n",
        "    lemma = lemma_function.lemmatize(token, tag_map[tag[0]])\n",
        "    print(f'{token} => {lemma} ({tag_map[tag[0]]})')"
      ]
    },
    {
      "cell_type": "markdown",
      "metadata": {
        "id": "8ECcMEAU5wEv"
      },
      "source": [
        "### TF-IDF (Term Frequency Inverse Document Frequency)\n",
        "\n",
        "* Term frequency vs term usefulness\n",
        "* Simple frequency count can be misleading because frequent terms in one document can also be frequent in other documents\n",
        "* TF-IDF is used to score words in context of the document as well as in the context of the corpus, the higher the score the more useful\n",
        "\n",
        "For example, you are wondering what to take for your electives. You want the class to be good but you also want the class to be relevant to your major. It's easy to see that the class can be:\n",
        "1. both good and relevant\n",
        "2. good but not relevant\n",
        "3. relevant but not good\n",
        "4. not good and not relevant\n",
        "\n",
        "In the same way, a term may be:\n",
        "1. frequently used in your corpus and useful in the analysis of the document it is found in\n",
        "2. frequently used in your corpus but useless\n",
        "3. infrequently used in your corpus but useful\n",
        "4. infrequenlty used in your corpus and useless"
      ]
    },
    {
      "cell_type": "code",
      "execution_count": 16,
      "metadata": {
        "colab": {
          "base_uri": "https://localhost:8080/",
          "height": 240
        },
        "id": "jb2k4Zk15wEv",
        "outputId": "1b8121b6-b350-460f-bc7a-df37ff760520"
      },
      "outputs": [
        {
          "output_type": "stream",
          "name": "stderr",
          "text": [
            "/usr/local/lib/python3.7/dist-packages/sklearn/utils/deprecation.py:87: FutureWarning: Function get_feature_names is deprecated; get_feature_names is deprecated in 1.0 and will be removed in 1.2. Please use get_feature_names_out instead.\n",
            "  warnings.warn(msg, category=FutureWarning)\n"
          ]
        },
        {
          "output_type": "execute_result",
          "data": {
            "text/plain": [
              "      about      also       and        be  beautiful       fun     going  \\\n",
              "0  0.000000  0.223328  0.223328  0.000000   0.000000  0.000000  0.000000   \n",
              "1  0.253745  0.000000  0.000000  0.253745   0.253745  0.253745  0.253745   \n",
              "\n",
              "       have      hope       how  ...   machine      mice      more      much  \\\n",
              "0  0.223328  0.446656  0.223328  ...  0.223328  0.000000  0.223328  0.158900   \n",
              "1  0.000000  0.000000  0.000000  ...  0.000000  0.253745  0.000000  0.180542   \n",
              "\n",
              "       quiz        so     there      till        to      was  \n",
              "0  0.000000  0.158900  0.000000  0.000000  0.317800  0.00000  \n",
              "1  0.253745  0.180542  0.253745  0.253745  0.180542  0.50749  \n",
              "\n",
              "[2 rows x 25 columns]"
            ],
            "text/html": [
              "\n",
              "  <div id=\"df-14947fc2-631e-42b4-b48f-11a4b0f7c9bf\">\n",
              "    <div class=\"colab-df-container\">\n",
              "      <div>\n",
              "<style scoped>\n",
              "    .dataframe tbody tr th:only-of-type {\n",
              "        vertical-align: middle;\n",
              "    }\n",
              "\n",
              "    .dataframe tbody tr th {\n",
              "        vertical-align: top;\n",
              "    }\n",
              "\n",
              "    .dataframe thead th {\n",
              "        text-align: right;\n",
              "    }\n",
              "</style>\n",
              "<table border=\"1\" class=\"dataframe\">\n",
              "  <thead>\n",
              "    <tr style=\"text-align: right;\">\n",
              "      <th></th>\n",
              "      <th>about</th>\n",
              "      <th>also</th>\n",
              "      <th>and</th>\n",
              "      <th>be</th>\n",
              "      <th>beautiful</th>\n",
              "      <th>fun</th>\n",
              "      <th>going</th>\n",
              "      <th>have</th>\n",
              "      <th>hope</th>\n",
              "      <th>how</th>\n",
              "      <th>...</th>\n",
              "      <th>machine</th>\n",
              "      <th>mice</th>\n",
              "      <th>more</th>\n",
              "      <th>much</th>\n",
              "      <th>quiz</th>\n",
              "      <th>so</th>\n",
              "      <th>there</th>\n",
              "      <th>till</th>\n",
              "      <th>to</th>\n",
              "      <th>was</th>\n",
              "    </tr>\n",
              "  </thead>\n",
              "  <tbody>\n",
              "    <tr>\n",
              "      <th>0</th>\n",
              "      <td>0.000000</td>\n",
              "      <td>0.223328</td>\n",
              "      <td>0.223328</td>\n",
              "      <td>0.000000</td>\n",
              "      <td>0.000000</td>\n",
              "      <td>0.000000</td>\n",
              "      <td>0.000000</td>\n",
              "      <td>0.223328</td>\n",
              "      <td>0.446656</td>\n",
              "      <td>0.223328</td>\n",
              "      <td>...</td>\n",
              "      <td>0.223328</td>\n",
              "      <td>0.000000</td>\n",
              "      <td>0.223328</td>\n",
              "      <td>0.158900</td>\n",
              "      <td>0.000000</td>\n",
              "      <td>0.158900</td>\n",
              "      <td>0.000000</td>\n",
              "      <td>0.000000</td>\n",
              "      <td>0.317800</td>\n",
              "      <td>0.00000</td>\n",
              "    </tr>\n",
              "    <tr>\n",
              "      <th>1</th>\n",
              "      <td>0.253745</td>\n",
              "      <td>0.000000</td>\n",
              "      <td>0.000000</td>\n",
              "      <td>0.253745</td>\n",
              "      <td>0.253745</td>\n",
              "      <td>0.253745</td>\n",
              "      <td>0.253745</td>\n",
              "      <td>0.000000</td>\n",
              "      <td>0.000000</td>\n",
              "      <td>0.000000</td>\n",
              "      <td>...</td>\n",
              "      <td>0.000000</td>\n",
              "      <td>0.253745</td>\n",
              "      <td>0.000000</td>\n",
              "      <td>0.180542</td>\n",
              "      <td>0.253745</td>\n",
              "      <td>0.180542</td>\n",
              "      <td>0.253745</td>\n",
              "      <td>0.253745</td>\n",
              "      <td>0.180542</td>\n",
              "      <td>0.50749</td>\n",
              "    </tr>\n",
              "  </tbody>\n",
              "</table>\n",
              "<p>2 rows × 25 columns</p>\n",
              "</div>\n",
              "      <button class=\"colab-df-convert\" onclick=\"convertToInteractive('df-14947fc2-631e-42b4-b48f-11a4b0f7c9bf')\"\n",
              "              title=\"Convert this dataframe to an interactive table.\"\n",
              "              style=\"display:none;\">\n",
              "        \n",
              "  <svg xmlns=\"http://www.w3.org/2000/svg\" height=\"24px\"viewBox=\"0 0 24 24\"\n",
              "       width=\"24px\">\n",
              "    <path d=\"M0 0h24v24H0V0z\" fill=\"none\"/>\n",
              "    <path d=\"M18.56 5.44l.94 2.06.94-2.06 2.06-.94-2.06-.94-.94-2.06-.94 2.06-2.06.94zm-11 1L8.5 8.5l.94-2.06 2.06-.94-2.06-.94L8.5 2.5l-.94 2.06-2.06.94zm10 10l.94 2.06.94-2.06 2.06-.94-2.06-.94-.94-2.06-.94 2.06-2.06.94z\"/><path d=\"M17.41 7.96l-1.37-1.37c-.4-.4-.92-.59-1.43-.59-.52 0-1.04.2-1.43.59L10.3 9.45l-7.72 7.72c-.78.78-.78 2.05 0 2.83L4 21.41c.39.39.9.59 1.41.59.51 0 1.02-.2 1.41-.59l7.78-7.78 2.81-2.81c.8-.78.8-2.07 0-2.86zM5.41 20L4 18.59l7.72-7.72 1.47 1.35L5.41 20z\"/>\n",
              "  </svg>\n",
              "      </button>\n",
              "      \n",
              "  <style>\n",
              "    .colab-df-container {\n",
              "      display:flex;\n",
              "      flex-wrap:wrap;\n",
              "      gap: 12px;\n",
              "    }\n",
              "\n",
              "    .colab-df-convert {\n",
              "      background-color: #E8F0FE;\n",
              "      border: none;\n",
              "      border-radius: 50%;\n",
              "      cursor: pointer;\n",
              "      display: none;\n",
              "      fill: #1967D2;\n",
              "      height: 32px;\n",
              "      padding: 0 0 0 0;\n",
              "      width: 32px;\n",
              "    }\n",
              "\n",
              "    .colab-df-convert:hover {\n",
              "      background-color: #E2EBFA;\n",
              "      box-shadow: 0px 1px 2px rgba(60, 64, 67, 0.3), 0px 1px 3px 1px rgba(60, 64, 67, 0.15);\n",
              "      fill: #174EA6;\n",
              "    }\n",
              "\n",
              "    [theme=dark] .colab-df-convert {\n",
              "      background-color: #3B4455;\n",
              "      fill: #D2E3FC;\n",
              "    }\n",
              "\n",
              "    [theme=dark] .colab-df-convert:hover {\n",
              "      background-color: #434B5C;\n",
              "      box-shadow: 0px 1px 3px 1px rgba(0, 0, 0, 0.15);\n",
              "      filter: drop-shadow(0px 1px 2px rgba(0, 0, 0, 0.3));\n",
              "      fill: #FFFFFF;\n",
              "    }\n",
              "  </style>\n",
              "\n",
              "      <script>\n",
              "        const buttonEl =\n",
              "          document.querySelector('#df-14947fc2-631e-42b4-b48f-11a4b0f7c9bf button.colab-df-convert');\n",
              "        buttonEl.style.display =\n",
              "          google.colab.kernel.accessAllowed ? 'block' : 'none';\n",
              "\n",
              "        async function convertToInteractive(key) {\n",
              "          const element = document.querySelector('#df-14947fc2-631e-42b4-b48f-11a4b0f7c9bf');\n",
              "          const dataTable =\n",
              "            await google.colab.kernel.invokeFunction('convertToInteractive',\n",
              "                                                     [key], {});\n",
              "          if (!dataTable) return;\n",
              "\n",
              "          const docLinkHtml = 'Like what you see? Visit the ' +\n",
              "            '<a target=\"_blank\" href=https://colab.research.google.com/notebooks/data_table.ipynb>data table notebook</a>'\n",
              "            + ' to learn more about interactive tables.';\n",
              "          element.innerHTML = '';\n",
              "          dataTable['output_type'] = 'display_data';\n",
              "          await google.colab.output.renderOutput(dataTable, element);\n",
              "          const docLink = document.createElement('div');\n",
              "          docLink.innerHTML = docLinkHtml;\n",
              "          element.appendChild(docLink);\n",
              "        }\n",
              "      </script>\n",
              "    </div>\n",
              "  </div>\n",
              "  "
            ]
          },
          "metadata": {},
          "execution_count": 16
        }
      ],
      "source": [
        "# tf-idf demonstration\n",
        "from sklearn.feature_extraction.text import TfidfVectorizer\n",
        "\n",
        "text1 = 'I love learning. I have learned so much, and hope to learn more. I also hope to learn how a machine learns.'\n",
        "text2 = 'learning about beautiful mice was so much fun till I learned there was going to be a quiz'\n",
        "\n",
        "vectorizer = TfidfVectorizer()\n",
        "vectors = vectorizer.fit_transform([text1, text2])\n",
        "feature_names = vectorizer.get_feature_names()\n",
        "dense = vectors.todense()\n",
        "denselist = dense.tolist()\n",
        "df = pd.DataFrame(denselist, columns=feature_names)\n",
        "df"
      ]
    },
    {
      "cell_type": "markdown",
      "metadata": {
        "id": "QnKfOQhD5wEw"
      },
      "source": [
        "### Why Multinomial?\n",
        "\n",
        "From https://en.wikipedia.org/wiki/Statistical_classification :\n",
        "\n",
        "> In statistics, classification is the problem of identifying which of a set of categories (sub-populations) an observation, (or observations) belongs to. Examples are assigning a given email to the \"spam\" or \"non-spam\" class, and assigning a diagnosis to a given patient based on observed characteristics of the patient (sex, blood pressure, presence or absence of certain symptoms, etc.).\n",
        "\n",
        "> An algorithm that implements classification, especially in a concrete implementation, is known as a classifier. The term \"classifier\" sometimes also refers to the mathematical function, implemented by a classification algorithm, that maps input data to a category.\n",
        "\n",
        "From https://scikit-learn.org/stable/modules/generated/sklearn.naive_bayes.MultinomialNB.html :\n",
        "\n",
        "> The multinomial Naive Bayes classifier is suitable for classification with discrete features (e.g., word counts for text classification). The multinomial distribution normally requires integer feature counts. However, in practice, fractional counts such as tf-idf may also work.\n",
        "\n",
        "Naive Bayes Classifiers:\n",
        "* GaussianNB: continuous\n",
        "* CategoricalNB: categorical\n",
        "* MultinomialNB: text\n",
        "* ComplementNB: corrects the “severe assumptions” made by MultinomialNB, suitable for imbalance dataset\n",
        "* BernoulliNB: designed for binary/boolean features\n",
        "\n",
        "Word probabilities are important here. Every word has a probability of occuring. What words appear the most, or have the most relevant tf-idf score, determines the classification.\n",
        "\n",
        "Diving deeper, we may want to examine the links in the email."
      ]
    },
    {
      "cell_type": "markdown",
      "metadata": {
        "id": "RkMSuvrA5wEw"
      },
      "source": [
        "## HAM SPAM Detection"
      ]
    },
    {
      "cell_type": "code",
      "execution_count": 17,
      "metadata": {
        "id": "4WAQ7c645wEx"
      },
      "outputs": [],
      "source": [
        "# import libraries\n",
        "import pandas as pd\n",
        "\n",
        "from sklearn.model_selection import train_test_split\n",
        "from sklearn.feature_extraction.text import CountVectorizer, TfidfVectorizer\n",
        "from sklearn.naive_bayes import MultinomialNB, ComplementNB\n",
        "from sklearn.metrics import confusion_matrix, accuracy_score\n",
        "\n",
        "# import nltk\n",
        "# nltk.download('stopwords')\n",
        "# nltk.download('punkt')\n",
        "# nltk.download('wordnet')\n",
        "# nltk.download('averaged_perceptron_tagger')\n",
        "from nltk import word_tokenize, pos_tag\n",
        "from nltk.corpus import stopwords\n",
        "from nltk.corpus import wordnet as wn\n",
        "from nltk.stem import SnowballStemmer, WordNetLemmatizer # SnowballStemmer improved version of Porter Stemmer"
      ]
    },
    {
      "cell_type": "code",
      "execution_count": 18,
      "metadata": {
        "id": "AnHtKYbV5wEx"
      },
      "outputs": [],
      "source": [
        "# create the dataframe\n",
        "data = pd.read_csv('spam.csv', encoding = 'latin-1')\n",
        "data = data[['v1', 'v2']]\n",
        "data = data.rename(columns = {'v1': 'label', 'v2': 'messages'})\n",
        "\n",
        "# stopwords = set(stopwords.words('english'))\n",
        "# data['messages'] = data['messages'].str.lower()\n",
        "# data['messages'] = data['messages'].apply(lambda msg: ' '.join([word for word in msg.split() if word not in stopwords]))"
      ]
    },
    {
      "cell_type": "code",
      "execution_count": 19,
      "metadata": {
        "id": "Qi7UX4Ry5wEy"
      },
      "outputs": [],
      "source": [
        "# stemmer = SnowballStemmer('english') \n",
        "# stopwords = set(stopwords.words('english'))\n",
        "\n",
        "# def process_msg(msg):\n",
        "#     msg = msg.lower()\n",
        "#     msg = [word for word in msg.split() if word not in stopwords]\n",
        "#     msg = ' '.join([stemmer.stem(word) for word in msg])\n",
        "#     return msg\n",
        "\n",
        "# data['messages'] = data['messages'].apply(process_msg)"
      ]
    },
    {
      "cell_type": "code",
      "execution_count": 20,
      "metadata": {
        "id": "lsYh1QdR5wEy"
      },
      "outputs": [],
      "source": [
        "# lemmatizer = WordNetLemmatizer()\n",
        "# stopwords = set(stopwords.words('english'))\n",
        "\n",
        "# def process_msg(msg):\n",
        "#     msg = msg.lower()\n",
        "#     nltkpos = [tag[1] for tag in pos_tag(word_tokenize(msg))]\n",
        "#     msg = [tag[0] for tag in pos_tag(word_tokenize(msg))]\n",
        "#     wnpos = ['a' if tag[0] == 'J' else tag[0].lower() if tag[0] in ['J', 'V', 'R'] else 'n' for tag in nltkpos]\n",
        "#     msg = ' '.join([lemmatizer.lemmatize(word, wnpos[i]) for i, word in enumerate(msg)]) \n",
        "#     msg = ' '.join([word for word in msg.split() if word not in stopwords])\n",
        "#     return msg\n",
        "\n",
        "# data['messages'] = data['messages'].apply(process_msg)"
      ]
    },
    {
      "cell_type": "code",
      "execution_count": 21,
      "metadata": {
        "colab": {
          "base_uri": "https://localhost:8080/"
        },
        "id": "45gjNCVs5wEz",
        "outputId": "2d132d3e-ed6c-4c82-e3a5-676f87434918"
      },
      "outputs": [
        {
          "output_type": "stream",
          "name": "stdout",
          "text": [
            "Accuracy: 0.9838565022421525\n",
            "[[963   2]\n",
            " [ 16 134]]\n"
          ]
        }
      ],
      "source": [
        "# split data and create classifier\n",
        "X_train, X_test, y_train, y_test = train_test_split(data['messages'], data['label'], test_size = 0.2, random_state = 42)\n",
        "\n",
        "vectorizer = CountVectorizer()\n",
        "# vectorizer = TfidfVectorizer()\n",
        "X_train = vectorizer.fit_transform(X_train)\n",
        "\n",
        "clf = MultinomialNB()\n",
        "# clf = ComplementNB()\n",
        "clf.fit(X_train, y_train)\n",
        "\n",
        "X_test = vectorizer.transform(X_test)\n",
        "y_pred = clf.predict(X_test)\n",
        "print(f'Accuracy: {accuracy_score(y_test, y_pred)}')\n",
        "print(confusion_matrix(y_test, y_pred))"
      ]
    },
    {
      "cell_type": "code",
      "execution_count": 22,
      "metadata": {
        "colab": {
          "base_uri": "https://localhost:8080/"
        },
        "id": "-Rl0A3ye5wEz",
        "outputId": "ccedaded-55e1-44a2-b3a7-97e846720a2c"
      },
      "outputs": [
        {
          "output_type": "stream",
          "name": "stdout",
          "text": [
            "Hello, I want to congratulate you on all you have done. ham\n",
            "Congratulations! You have won $1000000. Click here to claim your prize. spam\n"
          ]
        }
      ],
      "source": [
        "# test a prediction model\n",
        "def pred(msg):\n",
        "    msg = vectorizer.transform([msg])\n",
        "    prediction = clf.predict(msg)\n",
        "    return prediction[0]\n",
        "\n",
        "msg = 'Hello, I want to congratulate you on all you have done.'\n",
        "print(msg, pred(msg))\n",
        "\n",
        "msg = 'Congratulations! You have won $1000000. Click here to claim your prize.'\n",
        "print(msg, pred(msg))"
      ]
    }
  ],
  "metadata": {
    "kernelspec": {
      "display_name": "Python 3",
      "language": "python",
      "name": "python3"
    },
    "language_info": {
      "codemirror_mode": {
        "name": "ipython",
        "version": 3
      },
      "file_extension": ".py",
      "mimetype": "text/x-python",
      "name": "python",
      "nbconvert_exporter": "python",
      "pygments_lexer": "ipython3",
      "version": "3.8.5"
    },
    "colab": {
      "name": "Unit 10 Assignment_execution.ipynb",
      "provenance": [],
      "collapsed_sections": []
    }
  },
  "nbformat": 4,
  "nbformat_minor": 0
}